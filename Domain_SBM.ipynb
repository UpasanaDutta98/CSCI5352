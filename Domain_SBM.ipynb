{
 "cells": [
  {
   "cell_type": "code",
   "execution_count": 42,
   "metadata": {},
   "outputs": [
    {
     "ename": "SyntaxError",
     "evalue": "invalid syntax (<ipython-input-42-40a6a74f4b07>, line 5)",
     "output_type": "error",
     "traceback": [
      "\u001b[1;36m  File \u001b[1;32m\"<ipython-input-42-40a6a74f4b07>\"\u001b[1;36m, line \u001b[1;32m5\u001b[0m\n\u001b[1;33m    import graph_tool.all import gt\u001b[0m\n\u001b[1;37m                               ^\u001b[0m\n\u001b[1;31mSyntaxError\u001b[0m\u001b[1;31m:\u001b[0m invalid syntax\n"
     ]
    }
   ],
   "source": [
    "import networkx as nx\n",
    "import pickle\n",
    "import community\n",
    "from operator import itemgetter\n",
    "import matplotlib.pyplot as plt\n",
    "import graph_tool.all import gt"
   ]
  },
  {
   "cell_type": "markdown",
   "metadata": {},
   "source": [
    "# prep"
   ]
  },
  {
   "cell_type": "code",
   "execution_count": 28,
   "metadata": {},
   "outputs": [],
   "source": [
    "G = nx.read_gml(\"DomainDomainProjection.gml\")\n",
    "edgelist = list(G.edges(data = True))\n",
    "edgelist_tuples = [[i[0], i[1], i[-1][\"weight\"]] for i in edgelist]\n",
    "edgelist_sorted = [i for i in sorted(edgelist_tuples, key = itemgetter(2))]\n",
    "edgelist = edgelist_sorted\n",
    "\n",
    "del edgelist_tuples, edgelist_sorted, G"
   ]
  },
  {
   "cell_type": "code",
   "execution_count": 41,
   "metadata": {},
   "outputs": [],
   "source": [
    "edgelists_with_weights = [edgelist[i:] for i in range(len(edgelist))]\n",
    "edgelists = [edgelists_with_weights[i][:2] for i in range(len(edgelists_with_weights))]"
   ]
  },
  {
   "cell_type": "markdown",
   "metadata": {},
   "source": [
    "# computation"
   ]
  },
  {
   "cell_type": "code",
   "execution_count": null,
   "metadata": {},
   "outputs": [],
   "source": [
    "results = []"
   ]
  },
  {
   "cell_type": "code",
   "execution_count": null,
   "metadata": {},
   "outputs": [],
   "source": [
    "for elist in edgelists:\n",
    "    # init both graphs\n",
    "    g_gt = gt.Graph(directed = False)\n",
    "    g_nx = nx.Graph()\n",
    "    \n",
    "    # build both graphs\n",
    "    g_gt.add_edge_list(elist, hashed=False)\n",
    "    g_nx.add_edges_from(elist)\n",
    "    \n",
    "    # find communities\n",
    "    state = gt.minimize_nested_blockmodel_dl(g_gt, deg_corr = False)\n",
    "    louva = community.best_partition(g_nx)\n",
    "    \n",
    "    # append to result list (pickle for later)\n",
    "    results.append([state, louva])"
   ]
  },
  {
   "cell_type": "code",
   "execution_count": null,
   "metadata": {},
   "outputs": [],
   "source": [
    "dump = {\"results\": results, \"edgelists\": edgelists}\n",
    "\n",
    "with open(\"domain_analysis.pkl\", \"wb\") as fp:\n",
    "    pickle.dump(dump, fp)"
   ]
  },
  {
   "cell_type": "markdown",
   "metadata": {},
   "source": [
    "# analysis"
   ]
  },
  {
   "cell_type": "code",
   "execution_count": null,
   "metadata": {},
   "outputs": [],
   "source": [
    "with open(\"domain_analysis.pkl\", \"rb\") as fp:\n",
    "    dump = pickle.load(fp)\n",
    "    edgelists = dump[\"edgelists\"]\n",
    "    results = dump[\"results\"]\n",
    "\n",
    "del dump"
   ]
  },
  {
   "cell_type": "code",
   "execution_count": null,
   "metadata": {},
   "outputs": [],
   "source": []
  },
  {
   "cell_type": "code",
   "execution_count": null,
   "metadata": {},
   "outputs": [],
   "source": []
  },
  {
   "cell_type": "code",
   "execution_count": null,
   "metadata": {},
   "outputs": [],
   "source": []
  }
 ],
 "metadata": {
  "kernelspec": {
   "display_name": "Python 3",
   "language": "python",
   "name": "python3"
  },
  "language_info": {
   "codemirror_mode": {
    "name": "ipython",
    "version": 3
   },
   "file_extension": ".py",
   "mimetype": "text/x-python",
   "name": "python",
   "nbconvert_exporter": "python",
   "pygments_lexer": "ipython3",
   "version": "3.7.4"
  }
 },
 "nbformat": 4,
 "nbformat_minor": 2
}
